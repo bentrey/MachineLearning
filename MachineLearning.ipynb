{
 "cells": [
  {
   "cell_type": "markdown",
   "metadata": {},
   "source": [
    "<h1> Data Scientist Opening Pre-employment Assessment</h1>\n",
    "<p>Ben Trey</p>"
   ]
  },
  {
   "cell_type": "code",
   "execution_count": 2,
   "metadata": {},
   "outputs": [],
   "source": [
    "import pandas as pd\n",
    "import matplotlib.pyplot as plt\n",
    "import numpy as np\n",
    "import pandas as pd\n",
    "from sklearn.linear_model import LogisticRegression\n",
    "from scipy import stats\n",
    "from pandas.plotting import scatter_matrix\n",
    "from tqdm import tqdm_notebook"
   ]
  },
  {
   "cell_type": "markdown",
   "metadata": {},
   "source": [
    "<p><b>Step 1</b> - Clean and prepare your data: \n",
    "There are several entries where values have been deleted to simulate dirty data. Please clean the data with whatever method(s) you believe is best/most suitable. Note that some of the missing values are truly blank (unknown answers).  Success in this exercise typically involves feature engineering and avoiding data leakage.</p>"
   ]
  },
  {
   "cell_type": "code",
   "execution_count": 3,
   "metadata": {},
   "outputs": [],
   "source": [
    "#combining three csvs sources into one\n",
    "\n",
    "link1=\"https://raw.githubusercontent.com/bentrey/MachineLearning/master/exercise_03_test_part1.csv?token=ABFHVS6C4QKUJSMKZQKBI225R6EGQ\"\n",
    "link2=\"https://raw.githubusercontent.com/bentrey/MachineLearning/master/exercise_03_test_part2.csv?token=ABFHVSY7OLL24M7EW2IZ52K5R6EJA\"\n",
    "link3=\"https://raw.githubusercontent.com/bentrey/MachineLearning/master/exercise_03_test_part3.csv?token=ABFHVS4TK4TSBWIH544LRQ25R6ELQ\"\n",
    "\n",
    "df=[]\n",
    "links=[link1, link2, link3]\n",
    "for link in links:\n",
    "    dfTemp = pd.read_csv(link, index_col=None, header=0)\n",
    "    df.append(dfTemp)\n",
    "    \n",
    "frame = pd.concat(df, axis=0, ignore_index=True)"
   ]
  },
  {
   "cell_type": "code",
   "execution_count": 4,
   "metadata": {},
   "outputs": [
    {
     "data": {
      "text/plain": [
       "(40000, 101)"
      ]
     },
     "execution_count": 4,
     "metadata": {},
     "output_type": "execute_result"
    }
   ],
   "source": [
    "frame.shape"
   ]
  },
  {
   "cell_type": "code",
   "execution_count": 5,
   "metadata": {
    "scrolled": true
   },
   "outputs": [
    {
     "data": {
      "text/plain": [
       "(40000, 101)"
      ]
     },
     "execution_count": 5,
     "metadata": {},
     "output_type": "execute_result"
    }
   ],
   "source": [
    "link = \"/mnt/c/Users/我的电脑/Desktop/JobApplications/StateFarmDataScience/exercise_03_train.csv\"\n",
    "frame=pd.read_csv(link, index_col=None, header=0)\n",
    "frame.shape"
   ]
  },
  {
   "cell_type": "code",
   "execution_count": 6,
   "metadata": {},
   "outputs": [
    {
     "data": {
      "text/plain": [
       "(39204, 101)"
      ]
     },
     "execution_count": 6,
     "metadata": {},
     "output_type": "execute_result"
    }
   ],
   "source": [
    "#dropping missing data\n",
    "frame = frame.dropna()\n",
    "\n",
    "#replacing car names\n",
    "mispelledCarNames = ['volkswagen', 'bmw', 'ford', 'chrystler', 'tesla', \\\n",
    "'mercades', 'chevrolet', 'nissan']\n",
    "correctCarNames = ['Volkswagen', 'BMW', 'Ford', 'Chrysler', 'Tesla', \\\n",
    "'Mercedes', 'Chevrolet', 'Nissan']\n",
    "frame['x34'].replace(mispelledCarNames, correctCarNames,inplace=True)\n",
    "\n",
    "#replacing weekday names\n",
    "mispelledDayNames = ['wed', 'wednesday', 'thurday', 'thur', 'friday', \n",
    "'tuesday', 'monday', 'fri']\n",
    "correctDayNames = ['Wednesday', 'Wednesday', 'Thursday', 'Thursday', 'Friday', \n",
    "'Tuesday', 'Monday', 'Friday']\n",
    "frame['x35'].replace(mispelledDayNames, correctDayNames, inplace=True)\n",
    "#replace names with integers\n",
    "oldWeekdayNames=['Monday', 'Tuesday', 'Wednesday', 'Thursday', 'Friday']\n",
    "weekdayIntegers=[0, 1, 2, 3, 4]\n",
    "frame['x35'].replace(oldWeekdayNames, weekdayIntegers, inplace=True)\n",
    "\n",
    "#removing dollar signs\n",
    "frame['x41']=frame['x41'].str.replace('$','')\n",
    "frame['x41']=pd.to_numeric(frame['x41'])\n",
    "\n",
    "#removing percent signs\n",
    "frame['x45']=frame['x45'].str.replace('%','')\n",
    "frame['x45']=pd.to_numeric(frame['x45'])\n",
    "\n",
    "#replacing month names\n",
    "mispelledMonths = ['July', 'sept.', 'Dev', 'January']\n",
    "correctMonths = ['Jul', 'Sep', 'Dec', 'Jan']\n",
    "frame['x68'].replace(mispelledMonths, correctMonths, inplace=True)\n",
    "monthNames=['Jan', 'Feb', 'Mar', 'Apr', 'May', 'Jun', 'Jul', 'Aug', 'Sep',\\\n",
    "'Oct', 'Nov', 'Dec']\n",
    "monthIntegers=[0, 1, 2, 3, 4, 5, 6, 7, 8, 9, 10, 11]\n",
    "frame['x68'].replace(monthNames, monthIntegers, inplace=True)\n",
    "\n",
    "#replace mispelled continents\n",
    "frame['x93'].replace('euorpe', 'europe', inplace=True)\n",
    "\n",
    "frame.shape"
   ]
  },
  {
   "cell_type": "markdown",
   "metadata": {},
   "source": [
    "<p><b>Step 2</b> - Build your models: \n",
    "Please train two different machine learning/statistical models to predict the value for y.  Please include comments that document choices you make (such as those for feature engineering and for model tuning).</p> "
   ]
  },
  {
   "cell_type": "markdown",
   "metadata": {},
   "source": [
    "<p>Given the look of y I'm going to try a logistic model using some of the columns.</p>\n",
    "<br><br><b>Method A:</b><br><br>\n",
    "<p>I'm using Bayesian modeling with the Metropolis-Hastings Monte Carlo method. As I could not get any details about the parameters I hope the histograms will give more insite. As this method is quite compuationally intensive I am focusing on the five most prominent columns from the data. I put an upper limit on the number of times a value could be added to the data distribution to obtain a fuller result. This method also allows for parallelizable computation which would improve performance. I could use threads or seperate terminals and combine my results after creating seperate files. This would reduce file access collision as the simulation runs.</p>"
   ]
  },
  {
   "cell_type": "code",
   "execution_count": 7,
   "metadata": {},
   "outputs": [],
   "source": [
    "xData=frame[['x37', 'x41', 'x58', 'x75', 'x97']]\n",
    "yData=frame[['y']]"
   ]
  },
  {
   "cell_type": "code",
   "execution_count": 8,
   "metadata": {},
   "outputs": [],
   "source": [
    "#this is the prior distribution for coefficients\n",
    "def prior():\n",
    "    #a0, a1, a2, a3, a4, a5, sigma\n",
    "    return list(np.random.normal(0, 0.1, 6))+[np.random.normal(1,1)]\n",
    "\n",
    "def pointProb(point,params):\n",
    "    priorCalc = np.exp(-params[0]**2/50) * np.exp(-params[1]**2/50) *\\\n",
    "    np.exp(-params[2]**2/50) * np.exp(-params[3]**2/50) *\\\n",
    "    np.exp(-params[4]**2/50) *np.exp(-params[5]**2/50) *\\\n",
    "    np.exp(-(1-params[6])**2/2)\n",
    "    logValue = np.exp((params[0] + params[1]*point[0] +\\\n",
    "    params[2]*point[1]/100 + params[3]*point[2] + params[4]*point[3] +\\\n",
    "    params[5]*point[4] - np.log(1.1/(point[5]+0.05)))**2/2/params[6]**2)\n",
    "    return priorCalc * logValue\n"
   ]
  },
  {
   "cell_type": "code",
   "execution_count": 9,
   "metadata": {},
   "outputs": [
    {
     "data": {
      "application/vnd.jupyter.widget-view+json": {
       "model_id": "1df6554f74954c3690bf53d7ddea48da",
       "version_major": 2,
       "version_minor": 0
      },
      "text/plain": [
       "HBox(children=(IntProgress(value=0, max=2999), HTML(value='')))"
      ]
     },
     "metadata": {},
     "output_type": "display_data"
    },
    {
     "name": "stderr",
     "output_type": "stream",
     "text": [
      "/home/bentrey/myProjectDir/myProjectEnv/lib/python3.6/site-packages/ipykernel_launcher.py:13: RuntimeWarning: overflow encountered in exp\n",
      "  del sys.path[0]\n",
      "/home/bentrey/myProjectDir/myProjectEnv/lib/python3.6/site-packages/ipykernel_launcher.py:23: RuntimeWarning: invalid value encountered in double_scalars\n"
     ]
    },
    {
     "name": "stdout",
     "output_type": "stream",
     "text": [
      "\n"
     ]
    }
   ],
   "source": [
    "points=3*10**3-1\n",
    "samples=50\n",
    "param=[prior()]\n",
    "same=0\n",
    "\n",
    "for point in tqdm_notebook(range(points)):\n",
    "    testParam=prior()\n",
    "    #print(testParam)\n",
    "    oldSum=0.0\n",
    "    newSum=0.0\n",
    "    for sample in range(samples):\n",
    "        x37 = xData.sample()['x37'].iloc[0]\n",
    "        x41 = xData.sample()['x41'].iloc[0]\n",
    "        x58 = xData.sample()['x58'].iloc[0]\n",
    "        x75 = xData.sample()['x75'].iloc[0]\n",
    "        x97 = xData.sample()['x97'].iloc[0]\n",
    "        y = yData.sample()['y'].iloc[0]\n",
    "        tempPoint=[x37, x41, x58, x75, x97, y]\n",
    "        oldSum += pointProb(tempPoint, param[-1])\n",
    "        newSum += pointProb(tempPoint, testParam)\n",
    "    #print(param[-1])\n",
    "    #print(testParam)\n",
    "    if np.random.random()>oldSum/(oldSum+newSum) and same < 20:\n",
    "        param.append(param[-1])\n",
    "        same += 1\n",
    "    else:\n",
    "        param.append(testParam)\n",
    "        same = 0\n",
    "\n",
    "        "
   ]
  },
  {
   "cell_type": "code",
   "execution_count": 10,
   "metadata": {},
   "outputs": [
    {
     "data": {
      "image/png": "[encoded data removed]",
      "text/plain": [
       "<Figure size 432x288 with 1 Axes>"
      ]
     },
     "metadata": {
      "needs_background": "light"
     },
     "output_type": "display_data"
    },
    {
     "data": {
      "image/png": "[encoded data removed]",
      "text/plain": [
       "<Figure size 432x288 with 1 Axes>"
      ]
     },
     "metadata": {
      "needs_background": "light"
     },
     "output_type": "display_data"
    },
    {
     "data": {
      "image/png": "[encoded data removed]",
      "text/plain": [
       "<Figure size 432x288 with 1 Axes>"
      ]
     },
     "metadata": {
      "needs_background": "light"
     },
     "output_type": "display_data"
    },
    {
     "data": {
      "image/png": "[encoded data removed]",
      "text/plain": [
       "<Figure size 432x288 with 1 Axes>"
      ]
     },
     "metadata": {
      "needs_background": "light"
     },
     "output_type": "display_data"
    },
    {
     "data": {
      "image/png": "[encoded data removed]",
      "text/plain": [
       "<Figure size 432x288 with 1 Axes>"
      ]
     },
     "metadata": {
      "needs_background": "light"
     },
     "output_type": "display_data"
    }
   ],
   "source": [
    "param=np.array(param)\n",
    "titles=['x37', 'x41', 'x58', 'x75', 'x97']\n",
    "for n in range(5):\n",
    "    plt.hist(param[:,n],bins=50)\n",
    "    plt.title(titles[n])\n",
    "    plt.show()"
   ]
  },
  {
   "cell_type": "markdown",
   "metadata": {},
   "source": [
    "<p>Summaraized results using medians</p>"
   ]
  },
  {
   "cell_type": "code",
   "execution_count": 69,
   "metadata": {},
   "outputs": [
    {
     "name": "stdout",
     "output_type": "stream",
     "text": [
      "7.536295116482213e-05\n",
      "0.010989276116665045\n",
      "-0.014867680166634943\n",
      "0.008419149973860146\n",
      "-0.00048401367916591723\n"
     ]
    }
   ],
   "source": [
    "print(np.median(param[:,0]))\n",
    "print(np.median(param[:,1]))\n",
    "print(np.median(param[:,2]))\n",
    "print(np.median(param[:,3]))\n",
    "print(np.median(param[:,4]))"
   ]
  },
  {
   "cell_type": "markdown",
   "metadata": {},
   "source": [
    " <p><b>Method 2:</b><br>\n",
    " The second method I am using also uses the logistic model. In the previous case I needed to reduce the columns my model used. In Method 2 I chose a gradient descent model to fit the parameters of the logistic equation. This method is less compuationally intesive so I can include all columns in the model. Although this method converges more quickly it does not allow for parallelization. Depending on the resources of the project this method maybe more or less applicable.</p>"
   ]
  },
  {
   "cell_type": "code",
   "execution_count": 305,
   "metadata": {},
   "outputs": [],
   "source": [
    "def gradientDescent(xData, yData, coefficients, alpha, tolerance, maxRuns):\n",
    "    columnsList=list(xData.columns)\n",
    "    error = tolerance + 1\n",
    "    runs = 0\n",
    "    while error > tolerance and runs < maxRuns:\n",
    "        runs += 1\n",
    "        oldCoefficients=coefficients\n",
    "        diff=-np.log(1.1/(yData+0.05)-1)+xData.dot(coefficients)\n",
    "        grad=np.empty(len(columnsList))\n",
    "        for label in columnsList:\n",
    "            grad[columnsList.index(label)]=xData[label].dot(diff)\n",
    "        grad=grad/np.sqrt(np.dot(grad,grad))\n",
    "        coefficients = coefficients + grad*alpha\n",
    "        coefficientsDiff = oldCoefficients-coefficients\n",
    "        error = coefficientsDiff.dot(coefficientsDiff)\n",
    "    return (coefficients, error) "
   ]
  },
  {
   "cell_type": "code",
   "execution_count": 351,
   "metadata": {},
   "outputs": [
    {
     "name": "stdout",
     "output_type": "stream",
     "text": [
      "(array([ 2.38744908e+02,  1.01451513e+00,  3.11498474e+01, -2.45194783e+01,\n",
      "        6.62185040e-01,  4.94441076e+00,  1.03676506e+00,  1.05824435e+00,\n",
      "       -4.27386760e+01,  6.86862618e-01,  2.98427339e+01,  9.87680021e-01,\n",
      "       -2.10507317e+00,  1.03521758e+00,  8.66025713e-01,  8.79060583e-01,\n",
      "        1.01955830e+00,  8.15189489e-01, -1.30856247e+00,  2.35890603e+01,\n",
      "        4.08412236e-01,  4.48619900e+00, -1.32877429e+01,  1.00016116e+00,\n",
      "        7.92364027e-01,  6.01267384e+01,  6.18083429e-01,  6.56164945e+01,\n",
      "        1.02606306e+00,  1.01239238e+00,  2.35539185e-01,  1.72610667e+00,\n",
      "        1.81534049e+00, -3.33218697e+00,  1.38995576e+00,  9.38745507e-01,\n",
      "       -8.65542182e+00,  1.01114183e+00,  1.07560202e+00, -3.19491922e+01,\n",
      "        9.96569646e+03, -2.45534554e+02,  5.94871134e+00, -5.96390238e+02,\n",
      "        1.00172647e+00,  1.15374302e+00, -4.39538085e+00,  8.62672773e-01,\n",
      "       -5.29507167e+00, -2.00968433e+00, -5.83221875e+01,  1.01721052e+00,\n",
      "        1.24338041e+00,  1.02883545e+00,  1.21403610e+00,  5.99457585e+00,\n",
      "        3.67057641e+00,  5.28735777e-01,  6.94881704e-01,  1.39547877e+00,\n",
      "       -1.89873866e+01,  9.30114591e-01,  6.03356035e+00,  9.58722945e-01,\n",
      "        1.42963911e+00,  3.87847310e+00,  9.95362890e-01,  2.15712003e+00,\n",
      "       -3.80935762e+02,  2.73151930e+01,  4.68480678e+00, -3.48425054e+01,\n",
      "       -2.44074537e+00, -6.88371565e-01,  2.52097218e+01,  1.60442866e+00,\n",
      "        1.81805988e+01,  1.75404675e-01, -1.42111285e+01, -6.65863268e+00,\n",
      "        8.48531708e-01,  7.50411036e-01,  3.48483622e+01,  6.90145343e-01,\n",
      "       -4.42611560e+01,  6.32185758e-01,  9.43241600e-01,  1.27579032e+00,\n",
      "        1.07566314e+00, -2.40581088e+02,  1.34703414e+00,  9.00569998e-01,\n",
      "        1.27587209e+00, -4.21977541e+01,  1.18516517e+01,  8.29140426e-01,\n",
      "        1.01456421e+00,  1.37925217e+00,  1.01029116e+00]), 0.009999999999829019)\n"
     ]
    }
   ],
   "source": [
    "alpha=0.1\n",
    "yData=frame['y']\n",
    "xData=frame.drop(['x34', 'x93', 'y'],1)\n",
    "xData['x100']=1\n",
    "coefficients=np.array(99*[1])\n",
    "xData = xData.astype('float')\n",
    "\n",
    "c = gradientDescent(xData, yData, coefficients, alpha, 0.0001, 10**5)\n",
    "print(c)\n"
   ]
  },
  {
   "cell_type": "markdown",
   "metadata": {},
   "source": [
    "<p><b>Step 3</b> - Generate predictions:\n",
    "Create predictions on the data in test.csv using each of your trained models.  The predictions should be the class probabilities for belonging to the positive class (labeled '1').  \n",
    "\n",
    "Be sure to output a prediction for each of the rows in the test dataset (10K rows).  Save the results of each of your models in a separate CSV file.  Title the two files 'results1.csv' and 'results2.csv'.  A result file should each have a single column representing the output from one model (no header label or index column is needed). </p>"
   ]
  },
  {
   "cell_type": "markdown",
   "metadata": {},
   "source": [
    "<p>It appears both models failed! I would need more time to remedy this.</p>"
   ]
  },
  {
   "cell_type": "code",
   "execution_count": 90,
   "metadata": {},
   "outputs": [
    {
     "data": {
      "text/plain": [
       "(10000, 98)"
      ]
     },
     "execution_count": 90,
     "metadata": {},
     "output_type": "execute_result"
    }
   ],
   "source": [
    "link = \"/mnt/c/Users/我的电脑/Desktop/JobApplications/StateFarmDataScience/exercise_03_test.csv\"\n",
    "frame=pd.read_csv(link, index_col=None, header=0)\n",
    "\n",
    "#replacing car names\n",
    "mispelledCarNames = ['volkswagen', 'bmw', 'ford', 'chrystler', 'tesla', \\\n",
    "'mercades', 'chevrolet', 'nissan']\n",
    "correctCarNames = ['Volkswagen', 'BMW', 'Ford', 'Chrysler', 'Tesla', \\\n",
    "'Mercedes', 'Chevrolet', 'Nissan']\n",
    "frame['x34'].replace(mispelledCarNames, correctCarNames,inplace=True)\n",
    "\n",
    "#replacing weekday names\n",
    "mispelledDayNames = ['wed', 'wednesday', 'thurday', 'thur', 'friday', \n",
    "'tuesday', 'monday', 'fri']\n",
    "correctDayNames = ['Wednesday', 'Wednesday', 'Thursday', 'Thursday', 'Friday', \n",
    "'Tuesday', 'Monday', 'Friday']\n",
    "frame['x35'].replace(mispelledDayNames, correctDayNames, inplace=True)\n",
    "#replace names with integers\n",
    "oldWeekdayNames=['Monday', 'Tuesday', 'Wednesday', 'Thursday', 'Friday']\n",
    "weekdayIntegers=[0, 1, 2, 3, 4]\n",
    "frame['x35'].replace(oldWeekdayNames, weekdayIntegers, inplace=True)\n",
    "\n",
    "#removing dollar signs\n",
    "frame['x41']=frame['x41'].str.replace('$','')\n",
    "frame['x41']=pd.to_numeric(frame['x41'])\n",
    "\n",
    "#removing percent signs\n",
    "frame['x45']=frame['x45'].str.replace('%','')\n",
    "frame['x45']=pd.to_numeric(frame['x45'])\n",
    "\n",
    "#replacing month names\n",
    "mispelledMonths = ['July', 'sept.', 'Dev', 'January']\n",
    "correctMonths = ['Jul', 'Sep', 'Dec', 'Jan']\n",
    "frame['x68'].replace(mispelledMonths, correctMonths, inplace=True)\n",
    "monthNames=['Jan', 'Feb', 'Mar', 'Apr', 'May', 'Jun', 'Jul', 'Aug', 'Sep',\\\n",
    "'Oct', 'Nov', 'Dec']\n",
    "monthIntegers=[0, 1, 2, 3, 4, 5, 6, 7, 8, 9, 10, 11]\n",
    "frame['x68'].replace(monthNames, monthIntegers, inplace=True)\n",
    "\n",
    "#replace mispelled continents\n",
    "frame['x93'].replace('euorpe', 'europe', inplace=True)\n",
    "\n",
    "xData = frame.drop(['x34' ,'x93'],1)\n",
    "\n",
    "#dropping missing data\n",
    "xData = xData.fillna(frame.median())\n",
    "\n",
    "xData.shape"
   ]
  },
  {
   "cell_type": "code",
   "execution_count": 96,
   "metadata": {},
   "outputs": [],
   "source": [
    "def modelA(x37, x41, x58, x75, x97):\n",
    "    a37 = np.median(param[:,0])\n",
    "    a41 = np.median(param[:,1])\n",
    "    a58 = np.median(param[:,2])\n",
    "    a75 = np.median(param[:,3])\n",
    "    a97 = np.median(param[:,4])\n",
    "    return int(round(1.1/(1+np.exp(x37*a37 + x41*a41 + x58*a58 + x75*a75 +\\\n",
    "        x97*a97))-0.05,0))\n",
    "\n",
    "def modelB(x, c):\n",
    "    argument = x.dot(c)\n",
    "    if argument > 200:\n",
    "        return 0\n",
    "    if argument < 200:\n",
    "        return 1\n",
    "    return int(round(1.1/(1+np.exp(argument))-0.05,0))\n",
    "    \n",
    "modelATest=[]\n",
    "modelBTest=[]\n",
    "for n in range(10000):\n",
    "    predictionA = modelA(xData.iloc[n]['x37'], xData.iloc[n]['x41'],\\\n",
    "    xData.iloc[n]['x58'], xData.iloc[n]['x75'], xData.iloc[n]['x97'])\n",
    "    dataArray = np.array(list(xData.iloc[n])+[1])\n",
    "    predictionB = modelB(dataArray,c)\n",
    "    modelATest.append(predictionA)\n",
    "    modelBTest.append(predictionB)\n",
    "\n",
    "file1 = open(\"/mnt/c/Users/我的电脑/Desktop/JobApplications/StateFarmDataScience/results1.csv\", \"w\")\n",
    "file2 = open(\"/mnt/c/Users/我的电脑/Desktop/JobApplications/StateFarmDataScience/results2.csv\", \"w\")\n",
    "for n in range(10000):\n",
    "    file1.write(str(modelATest[n])+\"\\r\\n\")\n",
    "    file2.write(str(modelBTest[n])+\"\\r\\n\")\n",
    "file1.close()\n",
    "file2.close()"
   ]
  },
  {
   "cell_type": "markdown",
   "metadata": {},
   "source": [
    "<p><b>Step 4</b> - Compare your modeling approaches:\n",
    "Please prepare a relatively short write-up comparing the pros and cons of the two modeling techniques you used (PDF preferred).  Are there choices you made in the context of the exercise that might be different in a business context?</p>"
   ]
  },
  {
   "cell_type": "markdown",
   "metadata": {},
   "source": [
    "<p>My two models are a Bayesian logistic model using a monte carlo simulation and a logistic model using gradient descent. The models are similiar but the gradient decent model allowed for more data to be used. The monte carlo simulation allowed for parallel computation on multiple threads or seperate machines. It scales well. The gradient descent model finished faster but did not allow for parallel computation. The Bayesian model gave distribution of for the parameters which is a richer result than the result given with gradient descent.</p>"
   ]
  },
  {
   "cell_type": "markdown",
   "metadata": {},
   "source": [
    "<p><b>Step 5</b> - Submit your work: \n",
    "Your submission should consist of all the code used for EDA, cleaning, prepping, and modeling (text, html, or pdf preferred), the two result files (.csv format - each containing 10,000 decimal probabilities), and your write-up comparing the pros and cons of the two modeling techniques used (text, html, or pdf preferred).\n",
    "\n",
    "Your work will be scored on techniques used (appropriateness and complexity), evaluation of the two techniques compared in the write-up, model performance on the data hold out  - measured by AUC, and your overall code/comments.  The threshold for passing model performance is set high, expecting that model tuning and feature engineering will be used.  The best score of the two models submitted will be used.</p>"
   ]
  },
  {
   "cell_type": "markdown",
   "metadata": {},
   "source": [
    "<h1>Appendix</h1><br>\n",
    "<b>Part A:</b>"
   ]
  },
  {
   "cell_type": "code",
   "execution_count": null,
   "metadata": {},
   "outputs": [],
   "source": [
    "discreteData=[34,35,45,68,93]\n",
    "\n",
    "for n in range(100):\n",
    "    if not n in discreteData:\n",
    "        frame['x'+str(n)].hist(bins=50)\n",
    "        plt.title('x'+str(n))\n",
    "        plt.show()"
   ]
  },
  {
   "cell_type": "markdown",
   "metadata": {},
   "source": [
    "<p>All variables appear to be normally distributed.</p>"
   ]
  },
  {
   "cell_type": "code",
   "execution_count": null,
   "metadata": {},
   "outputs": [],
   "source": [
    "for n in range(100):\n",
    "    if not n in discreteData:\n",
    "        plt.scatter(frame['x'+str(n)],frame['y'],)\n",
    "        plt.title('x'+str(n))\n",
    "        plt.show()"
   ]
  },
  {
   "cell_type": "markdown",
   "metadata": {},
   "source": [
    "<p>There appears to be no correlation between y and any single variable.</p>"
   ]
  },
  {
   "cell_type": "code",
   "execution_count": null,
   "metadata": {},
   "outputs": [],
   "source": [
    "correlation=frame.corr()\n",
    "plt.matshow(correlation)\n",
    "plt.show()"
   ]
  },
  {
   "cell_type": "markdown",
   "metadata": {},
   "source": [
    "<p>The correlation matrix doesn't really give any hints.</p>"
   ]
  },
  {
   "cell_type": "code",
   "execution_count": null,
   "metadata": {},
   "outputs": [],
   "source": [
    "correlation.sort_values(by='y',ascending=False)['y']"
   ]
  },
  {
   "cell_type": "markdown",
   "metadata": {},
   "source": [
    "<p>y does not appear to depend linearly on any variable.</p>"
   ]
  },
  {
   "cell_type": "code",
   "execution_count": null,
   "metadata": {},
   "outputs": [],
   "source": [
    "attributes = [\"x75\", \"x37\", \"x58\", \"x97\"]\n",
    "scatter_matrix(frame[attributes], figsize=(12, 8))"
   ]
  },
  {
   "cell_type": "markdown",
   "metadata": {},
   "source": [
    "<p>The variables don't appear related.</p>"
   ]
  },
  {
   "cell_type": "markdown",
   "metadata": {},
   "source": [
    "<p><b>Part B: </b><br><br>Attempt the same analysis with different continents.</p>"
   ]
  },
  {
   "cell_type": "code",
   "execution_count": null,
   "metadata": {},
   "outputs": [],
   "source": [
    "europeFrame=frame[frame['x93']=='euorpe']"
   ]
  },
  {
   "cell_type": "code",
   "execution_count": null,
   "metadata": {},
   "outputs": [],
   "source": [
    "for n in range(100):\n",
    "    if not n in discreteData:\n",
    "        europeFrame['x'+str(n)].hist(bins=50)\n",
    "        plt.title('x'+str(n))\n",
    "        plt.show()"
   ]
  },
  {
   "cell_type": "code",
   "execution_count": null,
   "metadata": {},
   "outputs": [],
   "source": [
    "correlation=europeFrame.corr()\n",
    "correlation.sort_values(by='y',ascending=False)['y']"
   ]
  },
  {
   "cell_type": "code",
   "execution_count": null,
   "metadata": {},
   "outputs": [],
   "source": [
    "for n in range(100):\n",
    "    if not n in discreteData:\n",
    "        plt.scatter(europeFrame['x'+str(n)], europeFrame['y'],)\n",
    "        plt.title('x'+str(n))\n",
    "        plt.show()"
   ]
  },
  {
   "cell_type": "code",
   "execution_count": 78,
   "metadata": {},
   "outputs": [
    {
     "data": {
      "text/plain": [
       "0"
      ]
     },
     "execution_count": 78,
     "metadata": {},
     "output_type": "execute_result"
    }
   ],
   "source": [
    "int(round(1.1/(1+np.exp(200))-0.05,0))"
   ]
  },
  {
   "cell_type": "code",
   "execution_count": null,
   "metadata": {},
   "outputs": [],
   "source": []
  }
 ],
 "metadata": {
  "kernelspec": {
   "display_name": "Python 3",
   "language": "python",
   "name": "python3"
  },
  "language_info": {
   "codemirror_mode": {
    "name": "ipython",
    "version": 3
   },
   "file_extension": ".py",
   "mimetype": "text/x-python",
   "name": "python",
   "nbconvert_exporter": "python",
   "pygments_lexer": "ipython3",
   "version": "3.6.8"
  }
 },
 "nbformat": 4,
 "nbformat_minor": 2
}
